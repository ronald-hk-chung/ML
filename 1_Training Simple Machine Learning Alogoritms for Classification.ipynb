{
  "nbformat": 4,
  "nbformat_minor": 0,
  "metadata": {
    "colab": {
      "provenance": [],
      "toc_visible": true,
      "authorship_tag": "ABX9TyMDzRlVHs46OzeUx7rrlPgv",
      "include_colab_link": true
    },
    "kernelspec": {
      "name": "python3",
      "display_name": "Python 3"
    },
    "language_info": {
      "name": "python"
    }
  },
  "cells": [
    {
      "cell_type": "markdown",
      "metadata": {
        "id": "view-in-github",
        "colab_type": "text"
      },
      "source": [
        "<a href=\"https://colab.research.google.com/github/ronald-hk-chung/ML/blob/main/1_Training%20Simple%20Machine%20Learning%20Alogoritms%20for%20Classification.ipynb\" target=\"_parent\"><img src=\"https://colab.research.google.com/assets/colab-badge.svg\" alt=\"Open In Colab\"/></a>"
      ]
    },
    {
      "cell_type": "markdown",
      "source": [
        "# Training Simple Machine Learning Algorithms for Classification\n",
        "\n",
        "## Note book Summary\n",
        "We will make use of two algorithmically described machine learning algorithms for classification: the perceptron and adaptive linear neurons to classify different flower specifies in teh Iris dataset.\n",
        "\n",
        "*   Building an understanding of machine learning algorithms\n",
        "*   Using Pandas, NumPy and Matplotlib to read in, process and visualize data\n",
        "*   Implementing linear classifiers for 2-class problems in Python\n",
        "\n"
      ],
      "metadata": {
        "id": "GC9SX4ZC43lx"
      }
    },
    {
      "cell_type": "code",
      "source": [],
      "metadata": {
        "id": "Eq_EyErF6Toe"
      },
      "execution_count": null,
      "outputs": []
    }
  ]
}