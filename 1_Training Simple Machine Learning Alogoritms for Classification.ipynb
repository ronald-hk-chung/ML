{
  "nbformat": 4,
  "nbformat_minor": 0,
  "metadata": {
    "colab": {
      "provenance": [],
      "toc_visible": true,
      "authorship_tag": "ABX9TyNkJ1tDbRO1zLzrjVrNsWEK",
      "include_colab_link": true
    },
    "kernelspec": {
      "name": "python3",
      "display_name": "Python 3"
    },
    "language_info": {
      "name": "python"
    }
  },
  "cells": [
    {
      "cell_type": "markdown",
      "metadata": {
        "id": "view-in-github",
        "colab_type": "text"
      },
      "source": [
        "<a href=\"https://colab.research.google.com/github/ronald-hk-chung/ML/blob/main/1_Training%20Simple%20Machine%20Learning%20Alogoritms%20for%20Classification.ipynb\" target=\"_parent\"><img src=\"https://colab.research.google.com/assets/colab-badge.svg\" alt=\"Open In Colab\"/></a>"
      ]
    },
    {
      "cell_type": "markdown",
      "source": [
        "# Training Simple Machine Learning Algorithms for Classification\n",
        "\n",
        "We will make use of two algorithmically described machine learning algorithms for classification: the perceptron and adaptive linear neurons to classify different flower specifies in teh Iris dataset.\n",
        "\n",
        "*   Building an understanding of machine learning algorithms\n",
        "*   Using Pandas, NumPy and Matplotlib to read in, process and visualize data\n",
        "*   Implementing linear classifiers for 2-class problems in Python\n",
        "\n"
      ],
      "metadata": {
        "id": "GC9SX4ZC43lx"
      }
    },
    {
      "cell_type": "markdown",
      "source": [
        "## Artificial neurons - Perceptron and the formal definition of an artificial neuron\n",
        "\n",
        "\n",
        "### Perceptron - Brief History\n",
        "Frank Rosenblatt published the first concept of the perceptron learning rule based on the MCP neuron model (<a href=\"https://psycnet.apa.org/doiLanding?doi=10.1037%2Fh0042519\">The Perceptron: A Perceiving and Recognizing Automaton by F. Rosenblatt,\n",
        "Cornell Aeronautical Laboratory, 1957</a>). His perception rule proposed an algorithm that woudl automatically learn the optimal weight coefficients that would then be muliplied wiht the input features in order to make the decision of whether a neuron fires or not. In the context of supervised learning and classification, such an algorithm could then be used to predict whether a new data point belongs to one class or the other.\n",
        "\n",
        "### Artificial neuron definition\n",
        "\n",
        "We can put the idea behind artifical neurons into the context of a binary classification task with two classes: 0 and 1. We can then define a decision function, $\\sigma(z)$, that takes a linear combination of certain input values, $x$m and a corresponding weight vector, $w$, where $z$ is the so-called net input $z=w_1 x_1+w_2 x_2+\\ldots+w_m x_m$:\n",
        "\n",
        "$$\n",
        "\\boldsymbol{w}=\\left[\\begin{array}{c}\n",
        "w_1 \\\\\n",
        "\\vdots \\\\\n",
        "w_m\n",
        "\\end{array}\\right], \\quad \\boldsymbol{x}=\\left[\\begin{array}{c}\n",
        "x_1 \\\\\n",
        "\\vdots \\\\\n",
        "x_m\n",
        "\\end{array}\\right]\n",
        "$$\n",
        "\n",
        "Now, if the net input of a particular example,$x^{(i)}$, is greater than a defined threshold, $\\theta$, we predict class 1, and class 0 otherwise. In the perceptron algorithm, the decision function, $\\sigma(\\cdot)$, is a variant of a unit step function:\n",
        "\n",
        "$$\n",
        "\\sigma(z)= \\begin{cases}1 & \\text { if } z \\geq \\theta \\\\ 0 & \\text { otherwise }\\end{cases}\n",
        "$$\n",
        "\n",
        "Second, we define a *bias unit* as $b=-\\theta$ and make it part of the net input:\n",
        "\n",
        "$$\n",
        "z=w_1 x_1+\\ldots+w_m x_m+b=w^T x+b\n",
        "$$\n",
        "\n",
        "Given the introduction of the bias unit, we can redefine the decision function as follows:\n",
        "\n",
        "$$\n",
        "\\sigma(z)= \\begin{cases}1 & \\text { if } z \\geq 0 \\\\ 0 & \\text { otherwise }\\end{cases}\n",
        "$$\n",
        "\n",
        "Below illustrats the net input $z=w^T x+b$ is squashed into a binary output (0 or 1) by the decision function of the perceptron and how it can be used to discrimate between the two classes separable by a linear decision boundary\n",
        "\n",
        "<img src=\"https://github.com/ronald-hk-chung/ML/blob/main/img/1_thresold%20function%20producing%20a%20linear%20decision%20boundary%20for%20a%20binary%20classification%20problem.jpg?raw=true\">\n",
        "\n",
        "### The perceptron learning rule\n",
        "\n",
        "The perceptron algorithm can be summarized by the following steps:\n",
        "\n",
        "1. Initialize the weights and bias unit to 0 or small random numbers\n",
        "2. For each training example, $x^{(i)}$:\n",
        "    1. Compute the output value, $\\hat{y}^{(i)}$\n",
        "    2. Update the weights and bias unit\n",
        "\n",
        "The output value, $\\hat{y}^{(i)}$, is the class label by the unit step function, $\\sigma(\\cdot)$. The simultaneous update of the bias unit and each weight, $w_j$, in the weight vector, $w$, can be written as follow:\n",
        "\n",
        "$$\n",
        "\\begin{array}{ll}\n",
        "& w_j:=w_j+\\Delta w_j \\\\\n",
        "\\text { and } & b:=b+\\Delta b\n",
        "\\end{array}\n",
        "$$\n",
        "\n",
        "The update values are computed as follows:\n",
        "\n",
        "$$\n",
        "\\begin{array}{ll}\n",
        "& \\Delta w_j=\\eta\\left(y^{(i)}-\\hat{y}^{(i)}\\right) x_j^{(i)} \\\\\n",
        "\\text { and } & \\Delta b=\\eta\\left(y^{(i)}-\\hat{y}^{(i)}\\right)\n",
        "\\end{array}\n",
        "$$\n",
        "\n",
        "where <br>\n",
        "$\\eta$ is the **learning rate** <br>\n",
        "$y^{(i)}$ is the **true class label** <br>\n",
        "$\\hat{y}^{(i)}$ is the **predicted class label**\n",
        "\n",
        "Below figure summarised the general concept of the perceptron:\n",
        "\n",
        "<img src=\"https://github.com/ronald-hk-chung/ML/blob/main/img/Perceptron%20model.jpg?raw=true\">\n",
        "\n",
        "\n"
      ],
      "metadata": {
        "id": "kO48mp--zmVN"
      }
    },
    {
      "cell_type": "markdown",
      "source": [
        "### Implimentation of Perceptron Class\n",
        "\n",
        "We will create a Perceptron class to define the perceptron interface. The class will allow us to initialize new Perceptron objects that can learn from data via a <code>fit</code> method and make predictions via a seperate <code>predict</code> method\n",
        "\n",
        "\n",
        "\n",
        "\n",
        "\n"
      ],
      "metadata": {
        "id": "8DOZv2Y2rRin"
      }
    },
    {
      "cell_type": "code",
      "source": [
        "# Implimentation of Perceptron Class\n",
        "\n",
        "import numpy as np\n",
        "\n",
        "class Perceptron:\n",
        "    '''\n",
        "    Perceptron classifier\n",
        "\n",
        "    Args:\n",
        "        eta (float): Learning rate (between 0.0 and 1.0)\n",
        "        n_iter (int): Passes over the training dataset\n",
        "        random_state (int): Random number gerator seed for random weight initialization\n",
        "\n",
        "    Attributes:\n",
        "        w (np.ndarray): Weights after fitting\n",
        "        b (np.ndarray): Bias unit after fitting\n",
        "        errors (list): Number of misclassifications (updates) in each epoch\n",
        "    '''\n",
        "    def __init__(self, eta=0.01, n_iter=50, random_state=1):\n",
        "        self.eta = eta  # Learning Rate\n",
        "        self.n_iter = n_iter # No. of Epochs\n",
        "        self.random_state = random_state\n",
        "\n",
        "    def fit(self, X, y):\n",
        "        '''\n",
        "        Fit training data\n",
        "\n",
        "        Args:\n",
        "            X (np.ndarray): Training vectors with shape = [n_examples, n_features] where\n",
        "                n_examples is the number of examples\n",
        "                n_features is the number of features\n",
        "            Y (np.ndarray): Target values with shape = [n_examples]\n",
        "\n",
        "        Returns:\n",
        "            self: object\n",
        "        '''\n",
        "        rgen = np.random.RandomState(self.random_state)\n",
        "        # Initial weight vector contains random numbers drawn from a normal distribution\n",
        "        # with standard deviation of 0.01 and size of X.shape[1]\n",
        "        self.w = rgen.normal(loc=0.0, scale=0.01, size=X.shape[1])\n",
        "        self.b = np.float64(0.)\n",
        "        self.errors = []\n",
        "\n",
        "        for _ in range(self.n_iter):\n",
        "            errors = 0\n",
        "            for xi, target in zip(X, y):\n",
        "                update = self.eta * (target - self.predict(xi))\n",
        "                self.w += update * xi\n",
        "                self.b += update\n",
        "                errors += int(update != 0.0)\n",
        "            self.errors.append(errors)\n",
        "\n",
        "    def net_input(self, X):\n",
        "        '''Calculate net input'''\n",
        "        return np.dot(X, self.w) + self.b\n",
        "\n",
        "    def predict(self, X):\n",
        "        '''Return class label after unit step'''\n",
        "        return np.where(self.net_input(X) >= 0.0, 1, 0)\n"
      ],
      "metadata": {
        "id": "7B7GRKQ-uunZ"
      },
      "execution_count": 3,
      "outputs": []
    },
    {
      "cell_type": "markdown",
      "source": [
        "### Training a perceptron model on the Iris dataset\n",
        "\n",
        "To test our perceptron implementation, we will restrict the following analyses and examples to two feature variables (dimensions). While the perceptron rule is not restricted to two diensions, consider only two features, sepal length and petal length, will allow better visualization of the decision regions of the trained model in a scatter plot.\n",
        "\n",
        "We will also restrict the analyses to two flower classes, setosa and versicolor, from the Iris dataset for practical reasons. Note that perceptron algoritm can be extended to multi-class classification.\n"
      ],
      "metadata": {
        "id": "SadgKjwYt_jt"
      }
    },
    {
      "cell_type": "code",
      "source": [
        "from sklearn import datasets\n",
        "import pandas as pd\n",
        "\n",
        "def sklearn_to_df(sklearn_dataset):\n",
        "    df = pd.DataFrame(sklearn_dataset.data, columns=sklearn_dataset.feature_names)\n",
        "    df['target'] = pd.Series(sklearn_dataset.target)\n",
        "    df['target_names'] = df['target'].apply(lambda target: str(iris_dataset.target_names[target]))\n",
        "    return df\n",
        "\n",
        "iris_dataset = datasets.load_iris()\n",
        "df_iris = sklearn_to_df(iris_dataset)"
      ],
      "metadata": {
        "id": "Eq_EyErF6Toe"
      },
      "execution_count": 15,
      "outputs": []
    },
    {
      "cell_type": "code",
      "source": [
        "df_iris"
      ],
      "metadata": {
        "colab": {
          "base_uri": "https://localhost:8080/",
          "height": 441
        },
        "id": "by_-jcwYnSV1",
        "outputId": "77812ca1-2e8e-4199-f1fc-82507fafc28c"
      },
      "execution_count": 16,
      "outputs": [
        {
          "output_type": "execute_result",
          "data": {
            "text/plain": [
              "     sepal length (cm)  sepal width (cm)  petal length (cm)  petal width (cm)  \\\n",
              "0                  5.1               3.5                1.4               0.2   \n",
              "1                  4.9               3.0                1.4               0.2   \n",
              "2                  4.7               3.2                1.3               0.2   \n",
              "3                  4.6               3.1                1.5               0.2   \n",
              "4                  5.0               3.6                1.4               0.2   \n",
              "..                 ...               ...                ...               ...   \n",
              "145                6.7               3.0                5.2               2.3   \n",
              "146                6.3               2.5                5.0               1.9   \n",
              "147                6.5               3.0                5.2               2.0   \n",
              "148                6.2               3.4                5.4               2.3   \n",
              "149                5.9               3.0                5.1               1.8   \n",
              "\n",
              "     target target_names  \n",
              "0         0       setosa  \n",
              "1         0       setosa  \n",
              "2         0       setosa  \n",
              "3         0       setosa  \n",
              "4         0       setosa  \n",
              "..      ...          ...  \n",
              "145       2    virginica  \n",
              "146       2    virginica  \n",
              "147       2    virginica  \n",
              "148       2    virginica  \n",
              "149       2    virginica  \n",
              "\n",
              "[150 rows x 6 columns]"
            ],
            "text/html": [
              "\n",
              "  <div id=\"df-a172ca16-7f18-45a1-9ff0-3e58327f31db\" class=\"colab-df-container\">\n",
              "    <div>\n",
              "<style scoped>\n",
              "    .dataframe tbody tr th:only-of-type {\n",
              "        vertical-align: middle;\n",
              "    }\n",
              "\n",
              "    .dataframe tbody tr th {\n",
              "        vertical-align: top;\n",
              "    }\n",
              "\n",
              "    .dataframe thead th {\n",
              "        text-align: right;\n",
              "    }\n",
              "</style>\n",
              "<table border=\"1\" class=\"dataframe\">\n",
              "  <thead>\n",
              "    <tr style=\"text-align: right;\">\n",
              "      <th></th>\n",
              "      <th>sepal length (cm)</th>\n",
              "      <th>sepal width (cm)</th>\n",
              "      <th>petal length (cm)</th>\n",
              "      <th>petal width (cm)</th>\n",
              "      <th>target</th>\n",
              "      <th>target_names</th>\n",
              "    </tr>\n",
              "  </thead>\n",
              "  <tbody>\n",
              "    <tr>\n",
              "      <th>0</th>\n",
              "      <td>5.1</td>\n",
              "      <td>3.5</td>\n",
              "      <td>1.4</td>\n",
              "      <td>0.2</td>\n",
              "      <td>0</td>\n",
              "      <td>setosa</td>\n",
              "    </tr>\n",
              "    <tr>\n",
              "      <th>1</th>\n",
              "      <td>4.9</td>\n",
              "      <td>3.0</td>\n",
              "      <td>1.4</td>\n",
              "      <td>0.2</td>\n",
              "      <td>0</td>\n",
              "      <td>setosa</td>\n",
              "    </tr>\n",
              "    <tr>\n",
              "      <th>2</th>\n",
              "      <td>4.7</td>\n",
              "      <td>3.2</td>\n",
              "      <td>1.3</td>\n",
              "      <td>0.2</td>\n",
              "      <td>0</td>\n",
              "      <td>setosa</td>\n",
              "    </tr>\n",
              "    <tr>\n",
              "      <th>3</th>\n",
              "      <td>4.6</td>\n",
              "      <td>3.1</td>\n",
              "      <td>1.5</td>\n",
              "      <td>0.2</td>\n",
              "      <td>0</td>\n",
              "      <td>setosa</td>\n",
              "    </tr>\n",
              "    <tr>\n",
              "      <th>4</th>\n",
              "      <td>5.0</td>\n",
              "      <td>3.6</td>\n",
              "      <td>1.4</td>\n",
              "      <td>0.2</td>\n",
              "      <td>0</td>\n",
              "      <td>setosa</td>\n",
              "    </tr>\n",
              "    <tr>\n",
              "      <th>...</th>\n",
              "      <td>...</td>\n",
              "      <td>...</td>\n",
              "      <td>...</td>\n",
              "      <td>...</td>\n",
              "      <td>...</td>\n",
              "      <td>...</td>\n",
              "    </tr>\n",
              "    <tr>\n",
              "      <th>145</th>\n",
              "      <td>6.7</td>\n",
              "      <td>3.0</td>\n",
              "      <td>5.2</td>\n",
              "      <td>2.3</td>\n",
              "      <td>2</td>\n",
              "      <td>virginica</td>\n",
              "    </tr>\n",
              "    <tr>\n",
              "      <th>146</th>\n",
              "      <td>6.3</td>\n",
              "      <td>2.5</td>\n",
              "      <td>5.0</td>\n",
              "      <td>1.9</td>\n",
              "      <td>2</td>\n",
              "      <td>virginica</td>\n",
              "    </tr>\n",
              "    <tr>\n",
              "      <th>147</th>\n",
              "      <td>6.5</td>\n",
              "      <td>3.0</td>\n",
              "      <td>5.2</td>\n",
              "      <td>2.0</td>\n",
              "      <td>2</td>\n",
              "      <td>virginica</td>\n",
              "    </tr>\n",
              "    <tr>\n",
              "      <th>148</th>\n",
              "      <td>6.2</td>\n",
              "      <td>3.4</td>\n",
              "      <td>5.4</td>\n",
              "      <td>2.3</td>\n",
              "      <td>2</td>\n",
              "      <td>virginica</td>\n",
              "    </tr>\n",
              "    <tr>\n",
              "      <th>149</th>\n",
              "      <td>5.9</td>\n",
              "      <td>3.0</td>\n",
              "      <td>5.1</td>\n",
              "      <td>1.8</td>\n",
              "      <td>2</td>\n",
              "      <td>virginica</td>\n",
              "    </tr>\n",
              "  </tbody>\n",
              "</table>\n",
              "<p>150 rows × 6 columns</p>\n",
              "</div>\n",
              "    <div class=\"colab-df-buttons\">\n",
              "\n",
              "  <div class=\"colab-df-container\">\n",
              "    <button class=\"colab-df-convert\" onclick=\"convertToInteractive('df-a172ca16-7f18-45a1-9ff0-3e58327f31db')\"\n",
              "            title=\"Convert this dataframe to an interactive table.\"\n",
              "            style=\"display:none;\">\n",
              "\n",
              "  <svg xmlns=\"http://www.w3.org/2000/svg\" height=\"24px\" viewBox=\"0 -960 960 960\">\n",
              "    <path d=\"M120-120v-720h720v720H120Zm60-500h600v-160H180v160Zm220 220h160v-160H400v160Zm0 220h160v-160H400v160ZM180-400h160v-160H180v160Zm440 0h160v-160H620v160ZM180-180h160v-160H180v160Zm440 0h160v-160H620v160Z\"/>\n",
              "  </svg>\n",
              "    </button>\n",
              "\n",
              "  <style>\n",
              "    .colab-df-container {\n",
              "      display:flex;\n",
              "      gap: 12px;\n",
              "    }\n",
              "\n",
              "    .colab-df-convert {\n",
              "      background-color: #E8F0FE;\n",
              "      border: none;\n",
              "      border-radius: 50%;\n",
              "      cursor: pointer;\n",
              "      display: none;\n",
              "      fill: #1967D2;\n",
              "      height: 32px;\n",
              "      padding: 0 0 0 0;\n",
              "      width: 32px;\n",
              "    }\n",
              "\n",
              "    .colab-df-convert:hover {\n",
              "      background-color: #E2EBFA;\n",
              "      box-shadow: 0px 1px 2px rgba(60, 64, 67, 0.3), 0px 1px 3px 1px rgba(60, 64, 67, 0.15);\n",
              "      fill: #174EA6;\n",
              "    }\n",
              "\n",
              "    .colab-df-buttons div {\n",
              "      margin-bottom: 4px;\n",
              "    }\n",
              "\n",
              "    [theme=dark] .colab-df-convert {\n",
              "      background-color: #3B4455;\n",
              "      fill: #D2E3FC;\n",
              "    }\n",
              "\n",
              "    [theme=dark] .colab-df-convert:hover {\n",
              "      background-color: #434B5C;\n",
              "      box-shadow: 0px 1px 3px 1px rgba(0, 0, 0, 0.15);\n",
              "      filter: drop-shadow(0px 1px 2px rgba(0, 0, 0, 0.3));\n",
              "      fill: #FFFFFF;\n",
              "    }\n",
              "  </style>\n",
              "\n",
              "    <script>\n",
              "      const buttonEl =\n",
              "        document.querySelector('#df-a172ca16-7f18-45a1-9ff0-3e58327f31db button.colab-df-convert');\n",
              "      buttonEl.style.display =\n",
              "        google.colab.kernel.accessAllowed ? 'block' : 'none';\n",
              "\n",
              "      async function convertToInteractive(key) {\n",
              "        const element = document.querySelector('#df-a172ca16-7f18-45a1-9ff0-3e58327f31db');\n",
              "        const dataTable =\n",
              "          await google.colab.kernel.invokeFunction('convertToInteractive',\n",
              "                                                    [key], {});\n",
              "        if (!dataTable) return;\n",
              "\n",
              "        const docLinkHtml = 'Like what you see? Visit the ' +\n",
              "          '<a target=\"_blank\" href=https://colab.research.google.com/notebooks/data_table.ipynb>data table notebook</a>'\n",
              "          + ' to learn more about interactive tables.';\n",
              "        element.innerHTML = '';\n",
              "        dataTable['output_type'] = 'display_data';\n",
              "        await google.colab.output.renderOutput(dataTable, element);\n",
              "        const docLink = document.createElement('div');\n",
              "        docLink.innerHTML = docLinkHtml;\n",
              "        element.appendChild(docLink);\n",
              "      }\n",
              "    </script>\n",
              "  </div>\n",
              "\n",
              "\n",
              "    <div id=\"df-7976b5af-4c58-4ad6-91d0-53dbb2cdd899\">\n",
              "      <button class=\"colab-df-quickchart\" onclick=\"quickchart('df-7976b5af-4c58-4ad6-91d0-53dbb2cdd899')\"\n",
              "                title=\"Suggest charts\"\n",
              "                style=\"display:none;\">\n",
              "\n",
              "<svg xmlns=\"http://www.w3.org/2000/svg\" height=\"24px\"viewBox=\"0 0 24 24\"\n",
              "     width=\"24px\">\n",
              "    <g>\n",
              "        <path d=\"M19 3H5c-1.1 0-2 .9-2 2v14c0 1.1.9 2 2 2h14c1.1 0 2-.9 2-2V5c0-1.1-.9-2-2-2zM9 17H7v-7h2v7zm4 0h-2V7h2v10zm4 0h-2v-4h2v4z\"/>\n",
              "    </g>\n",
              "</svg>\n",
              "      </button>\n",
              "\n",
              "<style>\n",
              "  .colab-df-quickchart {\n",
              "      --bg-color: #E8F0FE;\n",
              "      --fill-color: #1967D2;\n",
              "      --hover-bg-color: #E2EBFA;\n",
              "      --hover-fill-color: #174EA6;\n",
              "      --disabled-fill-color: #AAA;\n",
              "      --disabled-bg-color: #DDD;\n",
              "  }\n",
              "\n",
              "  [theme=dark] .colab-df-quickchart {\n",
              "      --bg-color: #3B4455;\n",
              "      --fill-color: #D2E3FC;\n",
              "      --hover-bg-color: #434B5C;\n",
              "      --hover-fill-color: #FFFFFF;\n",
              "      --disabled-bg-color: #3B4455;\n",
              "      --disabled-fill-color: #666;\n",
              "  }\n",
              "\n",
              "  .colab-df-quickchart {\n",
              "    background-color: var(--bg-color);\n",
              "    border: none;\n",
              "    border-radius: 50%;\n",
              "    cursor: pointer;\n",
              "    display: none;\n",
              "    fill: var(--fill-color);\n",
              "    height: 32px;\n",
              "    padding: 0;\n",
              "    width: 32px;\n",
              "  }\n",
              "\n",
              "  .colab-df-quickchart:hover {\n",
              "    background-color: var(--hover-bg-color);\n",
              "    box-shadow: 0 1px 2px rgba(60, 64, 67, 0.3), 0 1px 3px 1px rgba(60, 64, 67, 0.15);\n",
              "    fill: var(--button-hover-fill-color);\n",
              "  }\n",
              "\n",
              "  .colab-df-quickchart-complete:disabled,\n",
              "  .colab-df-quickchart-complete:disabled:hover {\n",
              "    background-color: var(--disabled-bg-color);\n",
              "    fill: var(--disabled-fill-color);\n",
              "    box-shadow: none;\n",
              "  }\n",
              "\n",
              "  .colab-df-spinner {\n",
              "    border: 2px solid var(--fill-color);\n",
              "    border-color: transparent;\n",
              "    border-bottom-color: var(--fill-color);\n",
              "    animation:\n",
              "      spin 1s steps(1) infinite;\n",
              "  }\n",
              "\n",
              "  @keyframes spin {\n",
              "    0% {\n",
              "      border-color: transparent;\n",
              "      border-bottom-color: var(--fill-color);\n",
              "      border-left-color: var(--fill-color);\n",
              "    }\n",
              "    20% {\n",
              "      border-color: transparent;\n",
              "      border-left-color: var(--fill-color);\n",
              "      border-top-color: var(--fill-color);\n",
              "    }\n",
              "    30% {\n",
              "      border-color: transparent;\n",
              "      border-left-color: var(--fill-color);\n",
              "      border-top-color: var(--fill-color);\n",
              "      border-right-color: var(--fill-color);\n",
              "    }\n",
              "    40% {\n",
              "      border-color: transparent;\n",
              "      border-right-color: var(--fill-color);\n",
              "      border-top-color: var(--fill-color);\n",
              "    }\n",
              "    60% {\n",
              "      border-color: transparent;\n",
              "      border-right-color: var(--fill-color);\n",
              "    }\n",
              "    80% {\n",
              "      border-color: transparent;\n",
              "      border-right-color: var(--fill-color);\n",
              "      border-bottom-color: var(--fill-color);\n",
              "    }\n",
              "    90% {\n",
              "      border-color: transparent;\n",
              "      border-bottom-color: var(--fill-color);\n",
              "    }\n",
              "  }\n",
              "</style>\n",
              "\n",
              "      <script>\n",
              "        async function quickchart(key) {\n",
              "          const quickchartButtonEl =\n",
              "            document.querySelector('#' + key + ' button');\n",
              "          quickchartButtonEl.disabled = true;  // To prevent multiple clicks.\n",
              "          quickchartButtonEl.classList.add('colab-df-spinner');\n",
              "          try {\n",
              "            const charts = await google.colab.kernel.invokeFunction(\n",
              "                'suggestCharts', [key], {});\n",
              "          } catch (error) {\n",
              "            console.error('Error during call to suggestCharts:', error);\n",
              "          }\n",
              "          quickchartButtonEl.classList.remove('colab-df-spinner');\n",
              "          quickchartButtonEl.classList.add('colab-df-quickchart-complete');\n",
              "        }\n",
              "        (() => {\n",
              "          let quickchartButtonEl =\n",
              "            document.querySelector('#df-7976b5af-4c58-4ad6-91d0-53dbb2cdd899 button');\n",
              "          quickchartButtonEl.style.display =\n",
              "            google.colab.kernel.accessAllowed ? 'block' : 'none';\n",
              "        })();\n",
              "      </script>\n",
              "    </div>\n",
              "    </div>\n",
              "  </div>\n"
            ],
            "application/vnd.google.colaboratory.intrinsic+json": {
              "type": "dataframe",
              "variable_name": "df_iris",
              "summary": "{\n  \"name\": \"df_iris\",\n  \"rows\": 150,\n  \"fields\": [\n    {\n      \"column\": \"sepal length (cm)\",\n      \"properties\": {\n        \"dtype\": \"number\",\n        \"std\": 0.8280661279778629,\n        \"min\": 4.3,\n        \"max\": 7.9,\n        \"num_unique_values\": 35,\n        \"samples\": [\n          6.2,\n          4.5,\n          5.6\n        ],\n        \"semantic_type\": \"\",\n        \"description\": \"\"\n      }\n    },\n    {\n      \"column\": \"sepal width (cm)\",\n      \"properties\": {\n        \"dtype\": \"number\",\n        \"std\": 0.435866284936698,\n        \"min\": 2.0,\n        \"max\": 4.4,\n        \"num_unique_values\": 23,\n        \"samples\": [\n          2.3,\n          4.0,\n          3.5\n        ],\n        \"semantic_type\": \"\",\n        \"description\": \"\"\n      }\n    },\n    {\n      \"column\": \"petal length (cm)\",\n      \"properties\": {\n        \"dtype\": \"number\",\n        \"std\": 1.7652982332594667,\n        \"min\": 1.0,\n        \"max\": 6.9,\n        \"num_unique_values\": 43,\n        \"samples\": [\n          6.7,\n          3.8,\n          3.7\n        ],\n        \"semantic_type\": \"\",\n        \"description\": \"\"\n      }\n    },\n    {\n      \"column\": \"petal width (cm)\",\n      \"properties\": {\n        \"dtype\": \"number\",\n        \"std\": 0.7622376689603465,\n        \"min\": 0.1,\n        \"max\": 2.5,\n        \"num_unique_values\": 22,\n        \"samples\": [\n          0.2,\n          1.2,\n          1.3\n        ],\n        \"semantic_type\": \"\",\n        \"description\": \"\"\n      }\n    },\n    {\n      \"column\": \"target\",\n      \"properties\": {\n        \"dtype\": \"number\",\n        \"std\": 0,\n        \"min\": 0,\n        \"max\": 2,\n        \"num_unique_values\": 3,\n        \"samples\": [\n          0,\n          1,\n          2\n        ],\n        \"semantic_type\": \"\",\n        \"description\": \"\"\n      }\n    },\n    {\n      \"column\": \"target_names\",\n      \"properties\": {\n        \"dtype\": \"category\",\n        \"num_unique_values\": 3,\n        \"samples\": [\n          \"setosa\",\n          \"versicolor\",\n          \"virginica\"\n        ],\n        \"semantic_type\": \"\",\n        \"description\": \"\"\n      }\n    }\n  ]\n}"
            }
          },
          "metadata": {},
          "execution_count": 16
        }
      ]
    },
    {
      "cell_type": "code",
      "source": [
        "df_iris['target_names'].unique()"
      ],
      "metadata": {
        "colab": {
          "base_uri": "https://localhost:8080/"
        },
        "id": "TYOGVMgIvSqc",
        "outputId": "10060bf9-219a-4fff-8c6d-87e294a63581"
      },
      "execution_count": 7,
      "outputs": [
        {
          "output_type": "execute_result",
          "data": {
            "text/plain": [
              "array(['setosa', 'versicolor', 'virginica'], dtype=object)"
            ]
          },
          "metadata": {},
          "execution_count": 7
        }
      ]
    },
    {
      "cell_type": "code",
      "source": [
        "# filter the Iris dataset targets to setosa 0 and versicolor 1\n",
        "df_iris_filtered = df_iris[df_iris['target']<2]\n",
        "\n",
        "#Assign X, y with filtered target and features\n",
        "y = df_iris_filtered['target'].values\n",
        "X = df_iris_filtered[['sepal length (cm)','petal length (cm)']].values"
      ],
      "metadata": {
        "id": "L1rWr4IF7uP_"
      },
      "execution_count": 18,
      "outputs": []
    },
    {
      "cell_type": "markdown",
      "source": [
        "Below shows the distribution of flower examples in the Iris dataset along the two feature axes. In this 2-dimensional feature subspace, we can see that a linear decision boudnary is sufficient to seperate seosa from versicolor flowers. This, a linear classifier such as the perceptron should be able to classify the flowers in this dataset."
      ],
      "metadata": {
        "id": "Mw6nQas9z4Vc"
      }
    },
    {
      "cell_type": "code",
      "source": [
        "import matplotlib.pyplot as plt\n",
        "plt.scatter(X[:,0][y==0], X[:,1][y==0], color='red', marker='o', label='setosa')\n",
        "plt.scatter(X[:,0][y==1], X[:,1][y==1], color='blue', marker='s', label='Verisicolor')\n",
        "plt.xlabel('sepal length (cm)')\n",
        "plt.ylabel('petal length (cm)')\n",
        "plt.legend(loc='upper left')\n",
        "plt.show()"
      ],
      "metadata": {
        "colab": {
          "base_uri": "https://localhost:8080/",
          "height": 449
        },
        "id": "vGcdn2ZixtVn",
        "outputId": "5beee44b-0410-4381-f60a-2e1759eef9ba"
      },
      "execution_count": 26,
      "outputs": [
        {
          "output_type": "display_data",
          "data": {
            "text/plain": [
              "<Figure size 640x480 with 1 Axes>"
            ],
            "image/png": "[encoded data removed]"
          },
          "metadata": {}
        }
      ]
    },
    {
      "cell_type": "markdown",
      "source": [
        "Its time initialise our Perceptron Instance and train our algorithm on teh Iris data subset. We will also plot the misclassification error for each epoch to check whether the algorithm converged and found a decision boundary that seperates the two Iris flower classes."
      ],
      "metadata": {
        "id": "LuKygY3j0LU3"
      }
    },
    {
      "cell_type": "code",
      "source": [
        "# Initialise Perceptron Instance with learning rate = 0.1 and iteration = 10\n",
        "ppn = Perceptron(eta=0.1, n_iter=10)\n",
        "\n",
        "# Apply fit method for input features X and output y\n",
        "ppn.fit(X, y)"
      ],
      "metadata": {
        "id": "4n2nrSk8ZSGa"
      },
      "execution_count": 35,
      "outputs": []
    },
    {
      "cell_type": "code",
      "source": [
        "# Plotting out the erros vs. number of updates\n",
        "plt.plot(range(1, len(ppn.errors)+1), ppn.errors, marker='o')\n",
        "plt.xlabel('Epochs')\n",
        "plt.ylabel('Number of updates')\n",
        "plt.show()"
      ],
      "metadata": {
        "colab": {
          "base_uri": "https://localhost:8080/",
          "height": 449
        },
        "id": "khe7qf48pHGu",
        "outputId": "83e19937-8f86-477a-b2f6-7d2e4ccdc5df"
      },
      "execution_count": 38,
      "outputs": [
        {
          "output_type": "display_data",
          "data": {
            "text/plain": [
              "<Figure size 640x480 with 1 Axes>"
            ],
            "image/png": "[encoded data removed]"
          },
          "metadata": {}
        }
      ]
    },
    {
      "cell_type": "markdown",
      "source": [
        "Our perceptron converged after 6 epochs and shold now be able to classify the training examples perfectly. We will also implement a function to visualize the decision boundaries fo rthe 2-dimensional datasets"
      ],
      "metadata": {
        "id": "ccQ39cWf09ul"
      }
    },
    {
      "cell_type": "code",
      "source": [
        "from matplotlib.colors import ListedColormap\n",
        "\n",
        "def plot_decision_regions(X, y, classifier, resolution=0.02):\n",
        "    # setup marker generator and color map\n",
        "    markers = ('o', 's', '^', 'v', '<')\n",
        "    colors = ('red', 'blue', 'lightgreen', 'gray', 'cyan')\n",
        "    cmap = ListedColormap(colors[:len(np.unique(y))])\n",
        "\n",
        "    # plot the decision surface\n",
        "    x1_min, x1_max = X[:,0].min() - 1, X[:,0].max() + 1\n",
        "    x2_min, x2_max = X[:,1].min() - 1, X[:,1].max() + 1\n",
        "    xx1, xx2 = np.meshgrid(np.arange(x1_min, x1_max, resolution),\n",
        "                           np.arange(x2_min, x2_max, resolution))\n",
        "    lab = classifier.predict(np.array([xx1.ravel(), xx2.ravel()]).T)\n",
        "    lab = lab.reshape(xx1.shape)\n",
        "    plt.contourf(xx1, xx2, lab, alpha=0.3, cmap=cmap)\n",
        "    plt.xlim(xx1.min(), xx1.max())\n",
        "    plt.ylim(xx2.min(), xx2.max())\n",
        "\n",
        "    # plot class examples\n",
        "    for idx, cl in enumerate(np.unique(y)):\n",
        "        plt.scatter(x=X[y==cl, 0],\n",
        "                    y=X[y==cl, 1],\n",
        "                    alpha=0.8,\n",
        "                    c=colors[idx],\n",
        "                    marker=markers[idx],\n",
        "                    label=f'Class {cl}',\n",
        "                    edgecolor='black')"
      ],
      "metadata": {
        "id": "B8IOLKbRpeLi"
      },
      "execution_count": 41,
      "outputs": []
    },
    {
      "cell_type": "code",
      "source": [
        "plot_decision_regions(X, y, classifier=ppn)\n",
        "plt.xlabel('sepal length (cm)')\n",
        "plt.ylabel('petal length (cm)')\n",
        "plt.legend(loc='upper left')\n",
        "plt.show()"
      ],
      "metadata": {
        "colab": {
          "base_uri": "https://localhost:8080/",
          "height": 450
        },
        "id": "F9SWTBVG3UhN",
        "outputId": "f8521d22-0f1a-4de2-ce61-d34f7911198e"
      },
      "execution_count": 42,
      "outputs": [
        {
          "output_type": "display_data",
          "data": {
            "text/plain": [
              "<Figure size 640x480 with 1 Axes>"
            ],
            "image/png": "[encoded data removed]"
          },
          "metadata": {}
        }
      ]
    },
    {
      "cell_type": "markdown",
      "source": [
        "The perceptron learned a decision boundary that can classify all flow examples in teh Iris training subset perfectly\n",
        "\n",
        "### Note on Perceptron convergence\n",
        "\n",
        "Convergence is one of the biggest problems of the perceptron. Rosenblatt proved mathematically taht the perceptron learning rule converges if the two classes can be seperated by a linear hyperplane. However, if the classes cannot be seperated perfectly by such a linear decision boundary, the weights will never stop updating unless we set a maximum number of epochs\n"
      ],
      "metadata": {
        "id": "M0jZmkXy5KlB"
      }
    },
    {
      "cell_type": "markdown",
      "source": [
        "## Adaptive linear neurons and the convergence of learning\n",
        "\n"
      ],
      "metadata": {
        "id": "bY_MWtUq6M6c"
      }
    },
    {
      "cell_type": "code",
      "source": [],
      "metadata": {
        "id": "kjn9S42Z3ePA"
      },
      "execution_count": null,
      "outputs": []
    }
  ]
}